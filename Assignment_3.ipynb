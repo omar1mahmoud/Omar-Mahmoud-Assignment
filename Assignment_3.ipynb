{
  "nbformat": 4,
  "nbformat_minor": 0,
  "metadata": {
    "colab": {
      "provenance": []
    },
    "kernelspec": {
      "name": "python3",
      "display_name": "Python 3"
    },
    "language_info": {
      "name": "python"
    }
  },
  "cells": [
    {
      "cell_type": "markdown",
      "source": [
        "### Question: Count Vowels in a String\n",
        "\n",
        "**Description:** Write a function named count_vowels that takes a string as an argument and returns the count of vowels (a, e, i, o, u) in the string.\n",
        "\n",
        "The function should be case-insensitive, counting both uppercase and lowercase vowels.\n",
        "\n"
      ],
      "metadata": {
        "id": "pLVKrRoxMjC3"
      }
    },
    {
      "cell_type": "code",
      "execution_count": 1,
      "metadata": {
        "colab": {
          "base_uri": "https://localhost:8080/"
        },
        "id": "CGN6u0pyMgDE",
        "outputId": "eeadea50-e5b6-4073-f2e1-bedb26266254"
      },
      "outputs": [
        {
          "output_type": "stream",
          "name": "stdout",
          "text": [
            "3\n"
          ]
        }
      ],
      "source": [
        "def count_vowels(text):\n",
        "    vowels = \"aeiou\"\n",
        "    return sum(1 for char in text.lower() if char in vowels)\n",
        "text = \"Hello World\"\n",
        "print(count_vowels(text))"
      ]
    },
    {
      "cell_type": "markdown",
      "source": [
        "### Question: Find the Maximum Value in a List Using a Function\n",
        "Description: Write a function named find_max that takes a list of integers as an argument and returns the maximum value in the list.\n",
        "\n",
        "Do not use Python’s built-in max() function. The function should handle cases where the list is empty by returning None.\n"
      ],
      "metadata": {
        "id": "DqwL0m88Nx4j"
      }
    },
    {
      "cell_type": "code",
      "source": [
        "def find_max(numbers):\n",
        "    if not numbers:\n",
        "        return None\n",
        "    max_value = numbers[0]\n",
        "    for num in numbers:\n",
        "        if num > max_value:\n",
        "            max_value = num\n",
        "    return max_value\n",
        "numbers = [3, 5, 2, 8, 1]\n",
        "print(find_max(numbers))\n"
      ],
      "metadata": {
        "colab": {
          "base_uri": "https://localhost:8080/"
        },
        "id": "u8zK3nWeOKF9",
        "outputId": "ed33d535-982f-45f1-d10d-50c7c2bf0103"
      },
      "execution_count": 3,
      "outputs": [
        {
          "output_type": "stream",
          "name": "stdout",
          "text": [
            "8\n"
          ]
        }
      ]
    },
    {
      "cell_type": "markdown",
      "source": [],
      "metadata": {
        "id": "bJT--en5Mgzg"
      }
    },
    {
      "cell_type": "markdown",
      "source": [],
      "metadata": {
        "id": "FOyNUdKMMhmA"
      }
    }
  ]
}
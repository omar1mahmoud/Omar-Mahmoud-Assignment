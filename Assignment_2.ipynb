{
  "nbformat": 4,
  "nbformat_minor": 0,
  "metadata": {
    "colab": {
      "provenance": []
    },
    "kernelspec": {
      "name": "python3",
      "display_name": "Python 3"
    },
    "language_info": {
      "name": "python"
    }
  },
  "cells": [
    {
      "cell_type": "markdown",
      "source": [
        "### 1. Question: Merge and Sort Two Lists\n",
        "\n",
        "**Description:** Given two lists of integers, merge them into one list and sort the result in ascending order. Do not use Python's built-in sort() function or other sorting functions.\n",
        "\n",
        "\n"
      ],
      "metadata": {
        "id": "x1elMByxSAXK"
      }
    },
    {
      "cell_type": "code",
      "execution_count": 2,
      "metadata": {
        "colab": {
          "base_uri": "https://localhost:8080/"
        },
        "id": "Q0jmKo57R-fx",
        "outputId": "4429cb85-80cd-4479-ab76-09f31a5edae5"
      },
      "outputs": [
        {
          "output_type": "stream",
          "name": "stdout",
          "text": [
            "[0, 1, 2, 3, 4, 5]\n"
          ]
        }
      ],
      "source": [
        "def sort(list1, list2):\n",
        "    big_list = list1 + list2\n",
        "    n = len (big_list)\n",
        "    for i in range(n - 1):\n",
        "        for j in range(n - 1 - i):\n",
        "            if  big_list[j] >  big_list[j + 1]:\n",
        "                 big_list[j],  big_list[j + 1] =  big_list[j + 1],  big_list[j]\n",
        "    return big_list\n",
        "list1 = [3, 1, 4]\n",
        "list2 = [2, 5, 0]\n",
        "print(sort(list1, list2))"
      ]
    },
    {
      "cell_type": "markdown",
      "source": [],
      "metadata": {
        "id": "WnzpbsZyR_bG"
      }
    },
    {
      "cell_type": "code",
      "source": [
        "def repeat_characters(s, n):\n",
        "    return ''.join([char * n for char in s])\n",
        "s = \"abc\"\n",
        "n = 3\n",
        "print(repeat_characters(s, n))\n"
      ],
      "metadata": {
        "colab": {
          "base_uri": "https://localhost:8080/"
        },
        "id": "wD2fEQrwSDOh",
        "outputId": "70400281-e2af-4afb-84e8-1919597621b2"
      },
      "execution_count": 3,
      "outputs": [
        {
          "output_type": "stream",
          "name": "stdout",
          "text": [
            "aaabbbccc\n"
          ]
        }
      ]
    }
  ]
}